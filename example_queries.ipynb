{
 "cells": [
  {
   "cell_type": "markdown",
   "id": "c45a5132-2eea-44a5-8176-e6bea504eede",
   "metadata": {},
   "source": [
    "## 0. Imports and Setup"
   ]
  },
  {
   "cell_type": "code",
   "execution_count": 1,
   "id": "c6ebc83d-b0e0-487d-ae1c-1ad1c72d4d60",
   "metadata": {},
   "outputs": [],
   "source": [
    "import mysql.connector\n",
    "import pandas as pd\n",
    "import json"
   ]
  },
  {
   "cell_type": "code",
   "execution_count": 2,
   "id": "6ebf21f6-2420-40bc-8214-36ca787793e0",
   "metadata": {},
   "outputs": [],
   "source": [
    "database = mysql.connector.connect(\n",
    "    user='root', \n",
    "    password='password',\n",
    "    host='127.0.0.1', \n",
    "    port=3307,\n",
    "    database=\"TPCH\",\n",
    ")"
   ]
  },
  {
   "cell_type": "code",
   "execution_count": 3,
   "id": "8c8f07e3-c96e-4abb-89bc-1adb34181739",
   "metadata": {},
   "outputs": [],
   "source": [
    "cursor = database.cursor()"
   ]
  },
  {
   "cell_type": "markdown",
   "id": "99a2d8aa-4034-4fa8-b5d1-d29b64781d30",
   "metadata": {},
   "source": [
    "## 1. Query Data"
   ]
  },
  {
   "cell_type": "code",
   "execution_count": 4,
   "id": "500056cd-70df-4cdb-a54a-8e8cdd2dccdb",
   "metadata": {},
   "outputs": [],
   "source": [
    "sql_reader = open(\"queries/test_queries.sql\")\n",
    "queries = sql_reader.read().split(\";\")\n",
    "sql_reader.close()"
   ]
  },
  {
   "cell_type": "code",
   "execution_count": 5,
   "id": "2a4e3e86-099b-4c76-8b2b-b1033f5cc99b",
   "metadata": {},
   "outputs": [
    {
     "name": "stdout",
     "output_type": "stream",
     "text": [
      "-- using 1697822052 as a seed to the RNG\n",
      "\n",
      "\n",
      "\n",
      "select\n",
      "\tl_returnflag,\n",
      "\tl_linestatus,\n",
      "\tsum(l_quantity) as sum_qty,\n",
      "\tsum(l_extendedprice) as sum_base_price,\n",
      "\tsum(l_extendedprice * (1 - l_discount)) as sum_disc_price,\n",
      "\tsum(l_extendedprice * (1 - l_discount) * (1 + l_tax)) as sum_charge,\n",
      "\tavg(l_quantity) as avg_qty,\n",
      "\tavg(l_extendedprice) as avg_price,\n",
      "\tavg(l_discount) as avg_disc,\n",
      "\tcount(*) as count_order\n",
      "from\n",
      "\tlineitem\n",
      "where\n",
      "\tl_shipdate <= date '1998-12-01' - interval '83' day\n",
      "group by\n",
      "\tl_returnflag,\n",
      "\tl_linestatus\n",
      "order by\n",
      "\tl_returnflag,\n",
      "\tl_linestatus\n"
     ]
    }
   ],
   "source": [
    "print(queries[0])"
   ]
  },
  {
   "cell_type": "code",
   "execution_count": 6,
   "id": "f7356b6d-a8c3-4c72-a80c-1e9dfd0ac72c",
   "metadata": {},
   "outputs": [
    {
     "name": "stderr",
     "output_type": "stream",
     "text": [
      "/var/folders/k2/zns3zzl52ngb09pgfbbnb3pm0000gn/T/ipykernel_60315/2788461944.py:1: UserWarning: pandas only supports SQLAlchemy connectable (engine/connection) or database string URI or sqlite3 DBAPI2 connection. Other DBAPI2 objects are not tested. Please consider using SQLAlchemy.\n",
      "  pd.read_sql(queries[0], database)\n"
     ]
    },
    {
     "data": {
      "text/html": [
       "<div>\n",
       "<style scoped>\n",
       "    .dataframe tbody tr th:only-of-type {\n",
       "        vertical-align: middle;\n",
       "    }\n",
       "\n",
       "    .dataframe tbody tr th {\n",
       "        vertical-align: top;\n",
       "    }\n",
       "\n",
       "    .dataframe thead th {\n",
       "        text-align: right;\n",
       "    }\n",
       "</style>\n",
       "<table border=\"1\" class=\"dataframe\">\n",
       "  <thead>\n",
       "    <tr style=\"text-align: right;\">\n",
       "      <th></th>\n",
       "      <th>l_returnflag</th>\n",
       "      <th>l_linestatus</th>\n",
       "      <th>sum_qty</th>\n",
       "      <th>sum_base_price</th>\n",
       "      <th>sum_disc_price</th>\n",
       "      <th>sum_charge</th>\n",
       "      <th>avg_qty</th>\n",
       "      <th>avg_price</th>\n",
       "      <th>avg_disc</th>\n",
       "      <th>count_order</th>\n",
       "    </tr>\n",
       "  </thead>\n",
       "  <tbody>\n",
       "    <tr>\n",
       "      <th>0</th>\n",
       "      <td>A</td>\n",
       "      <td>F</td>\n",
       "      <td>380456.0</td>\n",
       "      <td>5.323482e+08</td>\n",
       "      <td>5.058224e+08</td>\n",
       "      <td>5.261659e+08</td>\n",
       "      <td>25.575155</td>\n",
       "      <td>35785.709307</td>\n",
       "      <td>0.050081</td>\n",
       "      <td>14876</td>\n",
       "    </tr>\n",
       "    <tr>\n",
       "      <th>1</th>\n",
       "      <td>N</td>\n",
       "      <td>F</td>\n",
       "      <td>8971.0</td>\n",
       "      <td>1.238480e+07</td>\n",
       "      <td>1.179826e+07</td>\n",
       "      <td>1.228249e+07</td>\n",
       "      <td>25.778736</td>\n",
       "      <td>35588.509684</td>\n",
       "      <td>0.047759</td>\n",
       "      <td>348</td>\n",
       "    </tr>\n",
       "    <tr>\n",
       "      <th>2</th>\n",
       "      <td>N</td>\n",
       "      <td>O</td>\n",
       "      <td>746245.0</td>\n",
       "      <td>1.046263e+09</td>\n",
       "      <td>9.942616e+08</td>\n",
       "      <td>1.034122e+09</td>\n",
       "      <td>25.456949</td>\n",
       "      <td>35691.564384</td>\n",
       "      <td>0.049925</td>\n",
       "      <td>29314</td>\n",
       "    </tr>\n",
       "    <tr>\n",
       "      <th>3</th>\n",
       "      <td>R</td>\n",
       "      <td>F</td>\n",
       "      <td>381449.0</td>\n",
       "      <td>5.345944e+08</td>\n",
       "      <td>5.079965e+08</td>\n",
       "      <td>5.285242e+08</td>\n",
       "      <td>25.597168</td>\n",
       "      <td>35874.006533</td>\n",
       "      <td>0.049828</td>\n",
       "      <td>14902</td>\n",
       "    </tr>\n",
       "  </tbody>\n",
       "</table>\n",
       "</div>"
      ],
      "text/plain": [
       "  l_returnflag l_linestatus   sum_qty  sum_base_price  sum_disc_price  \\\n",
       "0            A            F  380456.0    5.323482e+08    5.058224e+08   \n",
       "1            N            F    8971.0    1.238480e+07    1.179826e+07   \n",
       "2            N            O  746245.0    1.046263e+09    9.942616e+08   \n",
       "3            R            F  381449.0    5.345944e+08    5.079965e+08   \n",
       "\n",
       "     sum_charge    avg_qty     avg_price  avg_disc  count_order  \n",
       "0  5.261659e+08  25.575155  35785.709307  0.050081        14876  \n",
       "1  1.228249e+07  25.778736  35588.509684  0.047759          348  \n",
       "2  1.034122e+09  25.456949  35691.564384  0.049925        29314  \n",
       "3  5.285242e+08  25.597168  35874.006533  0.049828        14902  "
      ]
     },
     "execution_count": 6,
     "metadata": {},
     "output_type": "execute_result"
    }
   ],
   "source": [
    "pd.read_sql(queries[0], database)"
   ]
  },
  {
   "cell_type": "markdown",
   "id": "5fa44572-7015-466a-91dd-6a1b5771ac97",
   "metadata": {},
   "source": [
    "## 2. Evaluate Performance"
   ]
  },
  {
   "cell_type": "code",
   "execution_count": 7,
   "id": "f732e194-6b40-4753-a31d-c263e0d4116e",
   "metadata": {},
   "outputs": [
    {
     "data": {
      "text/plain": [
       "{'query_block': {'select_id': 1,\n",
       "  'cost_info': {'query_cost': '26559.77'},\n",
       "  'ordering_operation': {'using_filesort': False,\n",
       "   'grouping_operation': {'using_temporary_table': True,\n",
       "    'using_filesort': True,\n",
       "    'cost_info': {'sort_cost': '19862.35'},\n",
       "    'table': {'table_name': 'lineitem',\n",
       "     'access_type': 'ALL',\n",
       "     'rows_examined_per_scan': 59593,\n",
       "     'rows_produced_per_join': 19862,\n",
       "     'filtered': '33.33',\n",
       "     'cost_info': {'read_cost': '4711.19',\n",
       "      'eval_cost': '1986.23',\n",
       "      'prefix_cost': '6697.43',\n",
       "      'data_read_per_join': '7M'},\n",
       "     'used_columns': ['l_orderkey',\n",
       "      'l_linenumber',\n",
       "      'l_quantity',\n",
       "      'l_extendedprice',\n",
       "      'l_discount',\n",
       "      'l_tax',\n",
       "      'l_returnflag',\n",
       "      'l_linestatus',\n",
       "      'l_shipdate'],\n",
       "     'attached_condition': \"(`TPCH`.`lineitem`.`l_shipdate` <= <cache>((DATE'1998-12-01' - interval '83' day)))\"}}}}}"
      ]
     },
     "execution_count": 7,
     "metadata": {},
     "output_type": "execute_result"
    }
   ],
   "source": [
    "cursor.execute(\"EXPLAIN FORMAT='JSON'\" + queries[0])\n",
    "estimated_performance = json.loads(cursor.fetchall()[0][0])\n",
    "estimated_performance"
   ]
  },
  {
   "cell_type": "code",
   "execution_count": 8,
   "id": "c35244ab-7d30-4259-a45a-05b4d2ccf9d7",
   "metadata": {},
   "outputs": [
    {
     "name": "stdout",
     "output_type": "stream",
     "text": [
      "-> Sort: lineitem.l_returnflag, lineitem.l_linestatus  (actual time=146..146 rows=4 loops=1)\n",
      "    -> Table scan on <temporary>  (actual time=146..146 rows=4 loops=1)\n",
      "        -> Aggregate using temporary table  (actual time=146..146 rows=4 loops=1)\n",
      "            -> Filter: (lineitem.l_shipdate <= <cache>((DATE'1998-12-01' - interval '83' day)))  (cost=6697 rows=19862) (actual time=0.387..78.2 rows=59440 loops=1)\n",
      "                -> Table scan on lineitem  (cost=6697 rows=59593) (actual time=0.3..66.7 rows=60175 loops=1)\n",
      "\n"
     ]
    }
   ],
   "source": [
    "cursor.execute(\"EXPLAIN ANALYZE \" + queries[0].replace(\"lineitem\", \"lineitem USE INDEX()\"))\n",
    "actual_performance = cursor.fetchall()[0][0]\n",
    "print(actual_performance)"
   ]
  },
  {
   "cell_type": "markdown",
   "id": "661232c9-93a5-48c4-bf76-4541b01994b1",
   "metadata": {},
   "source": [
    "## 3. Modify Schema"
   ]
  },
  {
   "cell_type": "code",
   "execution_count": 9,
   "id": "b4918e2c-15bc-463b-8adc-667d191a8f6a",
   "metadata": {},
   "outputs": [],
   "source": [
    "cursor.execute(\"CREATE INDEX lineitem_returnflag_linestatus ON lineitem (l_returnflag, l_linestatus)\")"
   ]
  },
  {
   "cell_type": "code",
   "execution_count": 10,
   "id": "c39d2304-ecd5-43e4-b57c-40408b897fbf",
   "metadata": {},
   "outputs": [
    {
     "data": {
      "text/plain": [
       "{'query_block': {'select_id': 1,\n",
       "  'cost_info': {'query_cost': '6697.43'},\n",
       "  'ordering_operation': {'using_filesort': False,\n",
       "   'grouping_operation': {'using_filesort': False,\n",
       "    'table': {'table_name': 'lineitem',\n",
       "     'access_type': 'index',\n",
       "     'possible_keys': ['lineitem_returnflag_linestatus'],\n",
       "     'key': 'lineitem_returnflag_linestatus',\n",
       "     'used_key_parts': ['l_returnflag', 'l_linestatus'],\n",
       "     'key_length': '8',\n",
       "     'rows_examined_per_scan': 59593,\n",
       "     'rows_produced_per_join': 19862,\n",
       "     'filtered': '33.33',\n",
       "     'cost_info': {'read_cost': '4711.19',\n",
       "      'eval_cost': '1986.23',\n",
       "      'prefix_cost': '6697.43',\n",
       "      'data_read_per_join': '7M'},\n",
       "     'used_columns': ['l_orderkey',\n",
       "      'l_linenumber',\n",
       "      'l_quantity',\n",
       "      'l_extendedprice',\n",
       "      'l_discount',\n",
       "      'l_tax',\n",
       "      'l_returnflag',\n",
       "      'l_linestatus',\n",
       "      'l_shipdate'],\n",
       "     'attached_condition': \"(`TPCH`.`lineitem`.`l_shipdate` <= <cache>((DATE'1998-12-01' - interval '83' day)))\"}}}}}"
      ]
     },
     "execution_count": 10,
     "metadata": {},
     "output_type": "execute_result"
    }
   ],
   "source": [
    "cursor.execute(\"EXPLAIN FORMAT='JSON'\" + queries[0])\n",
    "estimated_performance = json.loads(cursor.fetchall()[0][0])\n",
    "estimated_performance"
   ]
  },
  {
   "cell_type": "code",
   "execution_count": 11,
   "id": "9a28cf9e-3f1c-4c1c-b46e-0f193e56781e",
   "metadata": {},
   "outputs": [
    {
     "name": "stdout",
     "output_type": "stream",
     "text": [
      "-> Group aggregate: sum(lineitem.l_quantity), sum(lineitem.l_extendedprice), sum((lineitem.l_extendedprice * (1 - lineitem.l_discount))), sum(((lineitem.l_extendedprice * (1 - lineitem.l_discount)) * (1 + lineitem.l_tax))), avg(lineitem.l_quantity), avg(lineitem.l_extendedprice), avg(lineitem.l_discount), count(0)  (cost=8684 rows=3) (actual time=60.2..167 rows=4 loops=1)\n",
      "    -> Filter: (lineitem.l_shipdate <= <cache>((DATE'1998-12-01' - interval '83' day)))  (cost=6697 rows=19862) (actual time=0.42..139 rows=59440 loops=1)\n",
      "        -> Index scan on lineitem using lineitem_returnflag_linestatus  (cost=6697 rows=59593) (actual time=0.413..132 rows=60175 loops=1)\n",
      "\n"
     ]
    }
   ],
   "source": [
    "cursor.execute(\"EXPLAIN ANALYZE \" + queries[0])\n",
    "actual_performance = cursor.fetchall()[0][0]\n",
    "print(actual_performance)"
   ]
  },
  {
   "cell_type": "markdown",
   "id": "d95b4544-921d-4a88-8dc7-c8bae1b25b73",
   "metadata": {},
   "source": [
    "## 4. Ignore Index"
   ]
  },
  {
   "cell_type": "code",
   "execution_count": 12,
   "id": "4a5caa55-77fa-4e90-abdd-07a37c6e39bf",
   "metadata": {},
   "outputs": [
    {
     "data": {
      "text/plain": [
       "{'query_block': {'select_id': 1,\n",
       "  'cost_info': {'query_cost': '26559.77'},\n",
       "  'ordering_operation': {'using_filesort': False,\n",
       "   'grouping_operation': {'using_temporary_table': True,\n",
       "    'using_filesort': True,\n",
       "    'cost_info': {'sort_cost': '19862.35'},\n",
       "    'table': {'table_name': 'lineitem',\n",
       "     'access_type': 'ALL',\n",
       "     'rows_examined_per_scan': 59593,\n",
       "     'rows_produced_per_join': 19862,\n",
       "     'filtered': '33.33',\n",
       "     'cost_info': {'read_cost': '4711.19',\n",
       "      'eval_cost': '1986.23',\n",
       "      'prefix_cost': '6697.43',\n",
       "      'data_read_per_join': '7M'},\n",
       "     'used_columns': ['l_orderkey',\n",
       "      'l_linenumber',\n",
       "      'l_quantity',\n",
       "      'l_extendedprice',\n",
       "      'l_discount',\n",
       "      'l_tax',\n",
       "      'l_returnflag',\n",
       "      'l_linestatus',\n",
       "      'l_shipdate'],\n",
       "     'attached_condition': \"(`TPCH`.`lineitem`.`l_shipdate` <= <cache>((DATE'1998-12-01' - interval '83' day)))\"}}}}}"
      ]
     },
     "execution_count": 12,
     "metadata": {},
     "output_type": "execute_result"
    }
   ],
   "source": [
    "cursor.execute(\"EXPLAIN FORMAT='JSON'\" + queries[0].replace(\"lineitem\", \"lineitem USE INDEX()\"))\n",
    "estimated_performance = json.loads(cursor.fetchall()[0][0])\n",
    "estimated_performance"
   ]
  },
  {
   "cell_type": "code",
   "execution_count": 13,
   "id": "72196dbb-3dcc-4ac8-9ec3-5c7ff229f697",
   "metadata": {},
   "outputs": [
    {
     "name": "stdout",
     "output_type": "stream",
     "text": [
      "-> Sort: lineitem.l_returnflag, lineitem.l_linestatus  (actual time=90.6..90.6 rows=4 loops=1)\n",
      "    -> Table scan on <temporary>  (actual time=90.6..90.6 rows=4 loops=1)\n",
      "        -> Aggregate using temporary table  (actual time=90.6..90.6 rows=4 loops=1)\n",
      "            -> Filter: (lineitem.l_shipdate <= <cache>((DATE'1998-12-01' - interval '83' day)))  (cost=6697 rows=19862) (actual time=0.0689..46.7 rows=59440 loops=1)\n",
      "                -> Table scan on lineitem  (cost=6697 rows=59593) (actual time=0.0641..39.1 rows=60175 loops=1)\n",
      "\n"
     ]
    }
   ],
   "source": [
    "cursor.execute(\"EXPLAIN ANALYZE \" + queries[0].replace(\"lineitem\", \"lineitem USE INDEX()\"))\n",
    "actual_performance = cursor.fetchall()[0][0]\n",
    "print(actual_performance)"
   ]
  }
 ],
 "metadata": {
  "kernelspec": {
   "display_name": "Python 3 (ipykernel)",
   "language": "python",
   "name": "python3"
  },
  "language_info": {
   "codemirror_mode": {
    "name": "ipython",
    "version": 3
   },
   "file_extension": ".py",
   "mimetype": "text/x-python",
   "name": "python",
   "nbconvert_exporter": "python",
   "pygments_lexer": "ipython3",
   "version": "3.8.18"
  }
 },
 "nbformat": 4,
 "nbformat_minor": 5
}
