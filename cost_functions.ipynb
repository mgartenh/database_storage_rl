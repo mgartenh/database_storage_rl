{
 "cells": [
  {
   "cell_type": "code",
   "execution_count": 103,
   "metadata": {},
   "outputs": [],
   "source": [
    "import sqlglot\n",
    "import mysql.connector\n",
    "from functools import partial\n",
    "import json\n",
    "\n",
    "database = mysql.connector.connect(\n",
    "    user='root', \n",
    "    password='password',\n",
    "    host='127.0.0.1', \n",
    "    port=3307,\n",
    "    database=\"TPCH\",\n",
    ")\n",
    "\n",
    "cursor = database.cursor()\n",
    "\n",
    "def partial_transformer(node, table_index_info):\n",
    "    if isinstance(node, sqlglot.exp.Table):\n",
    "        table_name = node.this.output_name\n",
    "        if table_name in table_index_info:\n",
    "            use_index_flag = table_index_info[table_name][\"use_index_flag\"]\n",
    "            indexes = [ f\"index_{table_name}_{column}\" for column in table_index_info[table_name][\"indexes\"]]\n",
    "        else:\n",
    "            use_index_flag = True\n",
    "            indexes = list()\n",
    "\n",
    "        table_hint = sqlglot.exp.IndexTableHint()\n",
    "        table_hint.set(\"this\", \"USE\" if use_index_flag else \"IGNORE\")\n",
    "        indexes_identifier = sqlglot.exp.Identifier()\n",
    "        indexes_identifier.set(\"this\", \", \".join(indexes))\n",
    "        table_hint.set(\"expressions\", table_hint.expressions + [indexes_identifier])\n",
    "        node.set(\"hints\", node.expressions + [table_hint])\n",
    "        return node\n",
    "    return node\n",
    "\n",
    "def get_query_cost(query, table_index_info) -> float:\n",
    "    expression_tree = sqlglot.parse_one(query)\n",
    "    transformer = partial(partial_transformer, table_index_info=table_index_info)\n",
    "    transformed_tree = expression_tree.transform(transformer)\n",
    "    index_specified_query = transformed_tree.sql()\n",
    "    cursor.execute(f\"EXPLAIN FORMAT='JSON' {index_specified_query}\")\n",
    "\n",
    "    query_cost = json.loads(cursor.fetchall()[0][0])[\"query_block\"][\"cost_info\"][\"query_cost\"]\n",
    "\n",
    "    return float(query_cost)\n",
    "\n",
    "def get_index_cost(table_index_info) -> float:\n",
    "    index_name_list = []\n",
    "    for table_name in table_index_info:\n",
    "        for column in table_index_info[table_name][\"indexes\"]:\n",
    "            index_name_list.append(f\"index_{table_name}_{column}\")\n",
    "\n",
    "    index_name_list_string = \"('\"+ \"','\".join(index_name_list) + \"')\"\n",
    "        \n",
    "    cursor.execute(f\"SELECT ROUND(SUM(stat_value * @@innodb_page_size / 1024 / 1024), 2) size_in_mb FROM mysql.innodb_index_stats WHERE stat_name = 'size' AND index_name != 'PRIMARY' AND database_name = 'TPCH' AND index_name IN {index_name_list_string}\")\n",
    "    return float(cursor.fetchone()[0])"
   ]
  },
  {
   "cell_type": "code",
   "execution_count": 104,
   "metadata": {},
   "outputs": [],
   "source": [
    "sql_reader = open(\"queries/test_queries.sql\")\n",
    "queries = sql_reader.read().split(\";\")\n",
    "sql_reader.close()\n",
    "\n",
    "table_index_info = {\n",
    "    \"lineitem\": {\n",
    "        \"use_index_flag\": True,\n",
    "        \"indexes\": ['l_commitdate', 'l_discount']\n",
    "    },   \n",
    "}"
   ]
  },
  {
   "cell_type": "code",
   "execution_count": 105,
   "metadata": {},
   "outputs": [
    {
     "data": {
      "text/plain": [
       "26518.18"
      ]
     },
     "execution_count": 105,
     "metadata": {},
     "output_type": "execute_result"
    }
   ],
   "source": [
    "get_query_cost(queries[0], table_index_info)"
   ]
  },
  {
   "cell_type": "code",
   "execution_count": 106,
   "metadata": {},
   "outputs": [
    {
     "data": {
      "text/plain": [
       "5.03"
      ]
     },
     "execution_count": 106,
     "metadata": {},
     "output_type": "execute_result"
    }
   ],
   "source": [
    "get_index_cost(table_index_info)"
   ]
  }
 ],
 "metadata": {
  "kernelspec": {
   "display_name": "myenv",
   "language": "python",
   "name": "python3"
  },
  "language_info": {
   "codemirror_mode": {
    "name": "ipython",
    "version": 3
   },
   "file_extension": ".py",
   "mimetype": "text/x-python",
   "name": "python",
   "nbconvert_exporter": "python",
   "pygments_lexer": "ipython3",
   "version": "3.8.18"
  }
 },
 "nbformat": 4,
 "nbformat_minor": 2
}
